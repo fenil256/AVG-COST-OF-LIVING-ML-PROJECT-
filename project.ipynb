{
 "cells": [
  {
   "cell_type": "markdown",
   "id": "7eaf5918",
   "metadata": {},
   "source": [
    "#   Average Cost of Living  in United States of America (Machine Learning Project)"
   ]
  },
  {
   "cell_type": "markdown",
   "id": "ac781402",
   "metadata": {},
   "source": [
    "## Importing Necessary Libraries"
   ]
  },
  {
   "cell_type": "code",
   "execution_count": 2,
   "id": "226e50d2",
   "metadata": {},
   "outputs": [],
   "source": [
    "import pandas as pd\n",
    "import numpy as np\n",
    "import matplotlib.pyplot as plt\n",
    "import matplotlib"
   ]
  },
  {
   "cell_type": "markdown",
   "id": "65564c3d",
   "metadata": {},
   "source": [
    "## Reading the csv file with help of pandas read_csv()\n"
   ]
  },
  {
   "cell_type": "markdown",
   "id": "d5c6ffa2",
   "metadata": {},
   "source": [
    "Here We have the dataset of cost of living in the states of america, we can see that there is Year,State, Type, Length, Expense and Value the description of each columns is as follows \n",
    "- Year : The Digest year this information comes from\n",
    "- State : The U.S. State\n",
    "- Type : Type of University, Private or Public and in-state or out-of-state. Private colleges charge the same for in/out of          state\n",
    "- Length : Whether the college mainly offers 2-year (Associates) or 4-year (Bachelors) programs\n",
    "- Expense : The Expense being described, tuition/fees or on-campus living expenses\n",
    "- Value : The average cost for this particular expense, in USD ($)"
   ]
  },
  {
   "cell_type": "code",
   "execution_count": 3,
   "id": "6943bf37",
   "metadata": {},
   "outputs": [
    {
     "data": {
      "text/html": [
       "<div>\n",
       "<style scoped>\n",
       "    .dataframe tbody tr th:only-of-type {\n",
       "        vertical-align: middle;\n",
       "    }\n",
       "\n",
       "    .dataframe tbody tr th {\n",
       "        vertical-align: top;\n",
       "    }\n",
       "\n",
       "    .dataframe thead th {\n",
       "        text-align: right;\n",
       "    }\n",
       "</style>\n",
       "<table border=\"1\" class=\"dataframe\">\n",
       "  <thead>\n",
       "    <tr style=\"text-align: right;\">\n",
       "      <th></th>\n",
       "      <th>Year</th>\n",
       "      <th>State</th>\n",
       "      <th>Type</th>\n",
       "      <th>Length</th>\n",
       "      <th>Expense</th>\n",
       "      <th>Value</th>\n",
       "    </tr>\n",
       "  </thead>\n",
       "  <tbody>\n",
       "    <tr>\n",
       "      <th>0</th>\n",
       "      <td>2013</td>\n",
       "      <td>Alabama</td>\n",
       "      <td>Private</td>\n",
       "      <td>4-year</td>\n",
       "      <td>Fees/Tuition</td>\n",
       "      <td>13983</td>\n",
       "    </tr>\n",
       "    <tr>\n",
       "      <th>1</th>\n",
       "      <td>2013</td>\n",
       "      <td>Alabama</td>\n",
       "      <td>Private</td>\n",
       "      <td>4-year</td>\n",
       "      <td>Room/Board</td>\n",
       "      <td>8503</td>\n",
       "    </tr>\n",
       "    <tr>\n",
       "      <th>2</th>\n",
       "      <td>2013</td>\n",
       "      <td>Alabama</td>\n",
       "      <td>Public In-State</td>\n",
       "      <td>2-year</td>\n",
       "      <td>Fees/Tuition</td>\n",
       "      <td>4048</td>\n",
       "    </tr>\n",
       "    <tr>\n",
       "      <th>3</th>\n",
       "      <td>2013</td>\n",
       "      <td>Alabama</td>\n",
       "      <td>Public In-State</td>\n",
       "      <td>4-year</td>\n",
       "      <td>Fees/Tuition</td>\n",
       "      <td>8073</td>\n",
       "    </tr>\n",
       "    <tr>\n",
       "      <th>4</th>\n",
       "      <td>2013</td>\n",
       "      <td>Alabama</td>\n",
       "      <td>Public In-State</td>\n",
       "      <td>4-year</td>\n",
       "      <td>Room/Board</td>\n",
       "      <td>8473</td>\n",
       "    </tr>\n",
       "  </tbody>\n",
       "</table>\n",
       "</div>"
      ],
      "text/plain": [
       "   Year    State             Type  Length       Expense  Value\n",
       "0  2013  Alabama          Private  4-year  Fees/Tuition  13983\n",
       "1  2013  Alabama          Private  4-year    Room/Board   8503\n",
       "2  2013  Alabama  Public In-State  2-year  Fees/Tuition   4048\n",
       "3  2013  Alabama  Public In-State  4-year  Fees/Tuition   8073\n",
       "4  2013  Alabama  Public In-State  4-year    Room/Board   8473"
      ]
     },
     "execution_count": 3,
     "metadata": {},
     "output_type": "execute_result"
    }
   ],
   "source": [
    "df = pd.read_csv(\"col.csv\")\n",
    "df.head()"
   ]
  },
  {
   "cell_type": "markdown",
   "id": "f0844cf0",
   "metadata": {},
   "source": [
    "- Following code describes the total number of rows and columns in the dataset\n",
    "There are **3548** Rows and **6** Columns "
   ]
  },
  {
   "cell_type": "code",
   "execution_count": 4,
   "id": "71946ab6",
   "metadata": {},
   "outputs": [
    {
     "data": {
      "text/plain": [
       "(3548, 6)"
      ]
     },
     "execution_count": 4,
     "metadata": {},
     "output_type": "execute_result"
    }
   ],
   "source": [
    "df.shape\n"
   ]
  },
  {
   "cell_type": "markdown",
   "id": "205e67ca",
   "metadata": {},
   "source": [
    "- Here we are grouping the data on the basis of State column in the data set \n",
    "We can see that the number of different states in the data set"
   ]
  },
  {
   "cell_type": "code",
   "execution_count": 5,
   "id": "98c1f637",
   "metadata": {},
   "outputs": [
    {
     "data": {
      "text/plain": [
       "State\n",
       "Alabama                 71\n",
       "Alaska                  63\n",
       "Arizona                 71\n",
       "Arkansas                71\n",
       "California              71\n",
       "Colorado                71\n",
       "Connecticut             71\n",
       "Delaware                61\n",
       "District of Columbia    35\n",
       "Florida                 71\n",
       "Name: State, dtype: int64"
      ]
     },
     "execution_count": 5,
     "metadata": {},
     "output_type": "execute_result"
    }
   ],
   "source": [
    "df.groupby(\"State\")[\"State\"].agg(\"count\").head(10)"
   ]
  },
  {
   "cell_type": "markdown",
   "id": "a1a6ac06",
   "metadata": {},
   "source": [
    "## Cleaning the dataset "
   ]
  },
  {
   "cell_type": "markdown",
   "id": "6b59a532",
   "metadata": {},
   "source": [
    "- Now lets check if there is any null values in the data set by applying the **isnull()**\n",
    "- We an see that there is no null values in the dataset that means the data set is already cleaned and is ready to use."
   ]
  },
  {
   "cell_type": "code",
   "execution_count": 7,
   "id": "1725a66c",
   "metadata": {},
   "outputs": [
    {
     "data": {
      "text/plain": [
       "Year       0\n",
       "State      0\n",
       "Type       0\n",
       "Length     0\n",
       "Expense    0\n",
       "Value      0\n",
       "dtype: int64"
      ]
     },
     "execution_count": 7,
     "metadata": {},
     "output_type": "execute_result"
    }
   ],
   "source": [
    "df.isnull().sum()"
   ]
  },
  {
   "cell_type": "markdown",
   "id": "5a99ea90",
   "metadata": {},
   "source": [
    "\n",
    "- Here We are making the new column named Expenses by splitting the value of the Expense column We are just keeping the \n",
    "  Fees and Room in the column for better understanding. \n"
   ]
  },
  {
   "cell_type": "code",
   "execution_count": 12,
   "id": "79e361d4",
   "metadata": {},
   "outputs": [
    {
     "data": {
      "text/html": [
       "<div>\n",
       "<style scoped>\n",
       "    .dataframe tbody tr th:only-of-type {\n",
       "        vertical-align: middle;\n",
       "    }\n",
       "\n",
       "    .dataframe tbody tr th {\n",
       "        vertical-align: top;\n",
       "    }\n",
       "\n",
       "    .dataframe thead th {\n",
       "        text-align: right;\n",
       "    }\n",
       "</style>\n",
       "<table border=\"1\" class=\"dataframe\">\n",
       "  <thead>\n",
       "    <tr style=\"text-align: right;\">\n",
       "      <th></th>\n",
       "      <th>0</th>\n",
       "      <th>1</th>\n",
       "    </tr>\n",
       "  </thead>\n",
       "  <tbody>\n",
       "    <tr>\n",
       "      <th>0</th>\n",
       "      <td>Fees</td>\n",
       "      <td>Tuition</td>\n",
       "    </tr>\n",
       "    <tr>\n",
       "      <th>1</th>\n",
       "      <td>Room</td>\n",
       "      <td>Board</td>\n",
       "    </tr>\n",
       "    <tr>\n",
       "      <th>2</th>\n",
       "      <td>Fees</td>\n",
       "      <td>Tuition</td>\n",
       "    </tr>\n",
       "    <tr>\n",
       "      <th>3</th>\n",
       "      <td>Fees</td>\n",
       "      <td>Tuition</td>\n",
       "    </tr>\n",
       "    <tr>\n",
       "      <th>4</th>\n",
       "      <td>Room</td>\n",
       "      <td>Board</td>\n",
       "    </tr>\n",
       "  </tbody>\n",
       "</table>\n",
       "</div>"
      ],
      "text/plain": [
       "      0        1\n",
       "0  Fees  Tuition\n",
       "1  Room    Board\n",
       "2  Fees  Tuition\n",
       "3  Fees  Tuition\n",
       "4  Room    Board"
      ]
     },
     "execution_count": 12,
     "metadata": {},
     "output_type": "execute_result"
    }
   ],
   "source": [
    "new = df[\"Expense\"].str.split(\"/\", n = 1, expand = True)\n",
    " \n",
    "# making separate first name column from new data frame\n",
    "df[\"Expenses\"]= new[0]\n",
    "\n",
    "new.head()"
   ]
  },
  {
   "cell_type": "code",
   "execution_count": 13,
   "id": "cbca8ca0",
   "metadata": {},
   "outputs": [
    {
     "data": {
      "text/html": [
       "<div>\n",
       "<style scoped>\n",
       "    .dataframe tbody tr th:only-of-type {\n",
       "        vertical-align: middle;\n",
       "    }\n",
       "\n",
       "    .dataframe tbody tr th {\n",
       "        vertical-align: top;\n",
       "    }\n",
       "\n",
       "    .dataframe thead th {\n",
       "        text-align: right;\n",
       "    }\n",
       "</style>\n",
       "<table border=\"1\" class=\"dataframe\">\n",
       "  <thead>\n",
       "    <tr style=\"text-align: right;\">\n",
       "      <th></th>\n",
       "      <th>Year</th>\n",
       "      <th>State</th>\n",
       "      <th>Type</th>\n",
       "      <th>Length</th>\n",
       "      <th>Expense</th>\n",
       "      <th>Value</th>\n",
       "      <th>Expenses</th>\n",
       "    </tr>\n",
       "  </thead>\n",
       "  <tbody>\n",
       "    <tr>\n",
       "      <th>0</th>\n",
       "      <td>2013</td>\n",
       "      <td>Alabama</td>\n",
       "      <td>Private</td>\n",
       "      <td>4-year</td>\n",
       "      <td>Fees/Tuition</td>\n",
       "      <td>13983</td>\n",
       "      <td>Fees</td>\n",
       "    </tr>\n",
       "    <tr>\n",
       "      <th>1</th>\n",
       "      <td>2013</td>\n",
       "      <td>Alabama</td>\n",
       "      <td>Private</td>\n",
       "      <td>4-year</td>\n",
       "      <td>Room/Board</td>\n",
       "      <td>8503</td>\n",
       "      <td>Room</td>\n",
       "    </tr>\n",
       "    <tr>\n",
       "      <th>2</th>\n",
       "      <td>2013</td>\n",
       "      <td>Alabama</td>\n",
       "      <td>Public In-State</td>\n",
       "      <td>2-year</td>\n",
       "      <td>Fees/Tuition</td>\n",
       "      <td>4048</td>\n",
       "      <td>Fees</td>\n",
       "    </tr>\n",
       "    <tr>\n",
       "      <th>3</th>\n",
       "      <td>2013</td>\n",
       "      <td>Alabama</td>\n",
       "      <td>Public In-State</td>\n",
       "      <td>4-year</td>\n",
       "      <td>Fees/Tuition</td>\n",
       "      <td>8073</td>\n",
       "      <td>Fees</td>\n",
       "    </tr>\n",
       "    <tr>\n",
       "      <th>4</th>\n",
       "      <td>2013</td>\n",
       "      <td>Alabama</td>\n",
       "      <td>Public In-State</td>\n",
       "      <td>4-year</td>\n",
       "      <td>Room/Board</td>\n",
       "      <td>8473</td>\n",
       "      <td>Room</td>\n",
       "    </tr>\n",
       "  </tbody>\n",
       "</table>\n",
       "</div>"
      ],
      "text/plain": [
       "   Year    State             Type  Length       Expense  Value Expenses\n",
       "0  2013  Alabama          Private  4-year  Fees/Tuition  13983     Fees\n",
       "1  2013  Alabama          Private  4-year    Room/Board   8503     Room\n",
       "2  2013  Alabama  Public In-State  2-year  Fees/Tuition   4048     Fees\n",
       "3  2013  Alabama  Public In-State  4-year  Fees/Tuition   8073     Fees\n",
       "4  2013  Alabama  Public In-State  4-year    Room/Board   8473     Room"
      ]
     },
     "execution_count": 13,
     "metadata": {},
     "output_type": "execute_result"
    }
   ],
   "source": [
    "df.head()"
   ]
  },
  {
   "cell_type": "markdown",
   "id": "44fc961b",
   "metadata": {},
   "source": [
    "- After Splitting the Columns we are dropping the Expense column from the data set "
   ]
  },
  {
   "cell_type": "code",
   "execution_count": 14,
   "id": "a1c723cb",
   "metadata": {},
   "outputs": [],
   "source": [
    "df1 = df.drop(['Expense'], axis=1)\n"
   ]
  },
  {
   "cell_type": "code",
   "execution_count": 15,
   "id": "6e5c84a6",
   "metadata": {
    "scrolled": true
   },
   "outputs": [
    {
     "data": {
      "text/html": [
       "<div>\n",
       "<style scoped>\n",
       "    .dataframe tbody tr th:only-of-type {\n",
       "        vertical-align: middle;\n",
       "    }\n",
       "\n",
       "    .dataframe tbody tr th {\n",
       "        vertical-align: top;\n",
       "    }\n",
       "\n",
       "    .dataframe thead th {\n",
       "        text-align: right;\n",
       "    }\n",
       "</style>\n",
       "<table border=\"1\" class=\"dataframe\">\n",
       "  <thead>\n",
       "    <tr style=\"text-align: right;\">\n",
       "      <th></th>\n",
       "      <th>Year</th>\n",
       "      <th>State</th>\n",
       "      <th>Type</th>\n",
       "      <th>Length</th>\n",
       "      <th>Value</th>\n",
       "      <th>Expenses</th>\n",
       "    </tr>\n",
       "  </thead>\n",
       "  <tbody>\n",
       "    <tr>\n",
       "      <th>0</th>\n",
       "      <td>2013</td>\n",
       "      <td>Alabama</td>\n",
       "      <td>Private</td>\n",
       "      <td>4-year</td>\n",
       "      <td>13983</td>\n",
       "      <td>Fees</td>\n",
       "    </tr>\n",
       "    <tr>\n",
       "      <th>1</th>\n",
       "      <td>2013</td>\n",
       "      <td>Alabama</td>\n",
       "      <td>Private</td>\n",
       "      <td>4-year</td>\n",
       "      <td>8503</td>\n",
       "      <td>Room</td>\n",
       "    </tr>\n",
       "    <tr>\n",
       "      <th>2</th>\n",
       "      <td>2013</td>\n",
       "      <td>Alabama</td>\n",
       "      <td>Public In-State</td>\n",
       "      <td>2-year</td>\n",
       "      <td>4048</td>\n",
       "      <td>Fees</td>\n",
       "    </tr>\n",
       "    <tr>\n",
       "      <th>3</th>\n",
       "      <td>2013</td>\n",
       "      <td>Alabama</td>\n",
       "      <td>Public In-State</td>\n",
       "      <td>4-year</td>\n",
       "      <td>8073</td>\n",
       "      <td>Fees</td>\n",
       "    </tr>\n",
       "    <tr>\n",
       "      <th>4</th>\n",
       "      <td>2013</td>\n",
       "      <td>Alabama</td>\n",
       "      <td>Public In-State</td>\n",
       "      <td>4-year</td>\n",
       "      <td>8473</td>\n",
       "      <td>Room</td>\n",
       "    </tr>\n",
       "  </tbody>\n",
       "</table>\n",
       "</div>"
      ],
      "text/plain": [
       "   Year    State             Type  Length  Value Expenses\n",
       "0  2013  Alabama          Private  4-year  13983     Fees\n",
       "1  2013  Alabama          Private  4-year   8503     Room\n",
       "2  2013  Alabama  Public In-State  2-year   4048     Fees\n",
       "3  2013  Alabama  Public In-State  4-year   8073     Fees\n",
       "4  2013  Alabama  Public In-State  4-year   8473     Room"
      ]
     },
     "execution_count": 15,
     "metadata": {},
     "output_type": "execute_result"
    }
   ],
   "source": [
    "df1.head()"
   ]
  },
  {
   "cell_type": "markdown",
   "id": "e8161b02",
   "metadata": {},
   "source": [
    "- Here We are making the new column named **Period** by splitting the value of the Length column We are just keeping the \n",
    "  4 and 2,  values of column for better understanding. "
   ]
  },
  {
   "cell_type": "code",
   "execution_count": 16,
   "id": "088e6e64",
   "metadata": {},
   "outputs": [
    {
     "data": {
      "text/html": [
       "<div>\n",
       "<style scoped>\n",
       "    .dataframe tbody tr th:only-of-type {\n",
       "        vertical-align: middle;\n",
       "    }\n",
       "\n",
       "    .dataframe tbody tr th {\n",
       "        vertical-align: top;\n",
       "    }\n",
       "\n",
       "    .dataframe thead th {\n",
       "        text-align: right;\n",
       "    }\n",
       "</style>\n",
       "<table border=\"1\" class=\"dataframe\">\n",
       "  <thead>\n",
       "    <tr style=\"text-align: right;\">\n",
       "      <th></th>\n",
       "      <th>0</th>\n",
       "      <th>1</th>\n",
       "    </tr>\n",
       "  </thead>\n",
       "  <tbody>\n",
       "    <tr>\n",
       "      <th>0</th>\n",
       "      <td>4</td>\n",
       "      <td>year</td>\n",
       "    </tr>\n",
       "    <tr>\n",
       "      <th>1</th>\n",
       "      <td>4</td>\n",
       "      <td>year</td>\n",
       "    </tr>\n",
       "    <tr>\n",
       "      <th>2</th>\n",
       "      <td>2</td>\n",
       "      <td>year</td>\n",
       "    </tr>\n",
       "    <tr>\n",
       "      <th>3</th>\n",
       "      <td>4</td>\n",
       "      <td>year</td>\n",
       "    </tr>\n",
       "    <tr>\n",
       "      <th>4</th>\n",
       "      <td>4</td>\n",
       "      <td>year</td>\n",
       "    </tr>\n",
       "  </tbody>\n",
       "</table>\n",
       "</div>"
      ],
      "text/plain": [
       "   0     1\n",
       "0  4  year\n",
       "1  4  year\n",
       "2  2  year\n",
       "3  4  year\n",
       "4  4  year"
      ]
     },
     "execution_count": 16,
     "metadata": {},
     "output_type": "execute_result"
    }
   ],
   "source": [
    "new = df1[\"Length\"].str.split(\"-\", n = 1, expand = True)\n",
    " \n",
    "# making separate first name column from new data frame\n",
    "df1[\"Period\"]= new[0]\n",
    "\n",
    "new.head()"
   ]
  },
  {
   "cell_type": "code",
   "execution_count": 17,
   "id": "85a276c6",
   "metadata": {
    "scrolled": true
   },
   "outputs": [
    {
     "data": {
      "text/html": [
       "<div>\n",
       "<style scoped>\n",
       "    .dataframe tbody tr th:only-of-type {\n",
       "        vertical-align: middle;\n",
       "    }\n",
       "\n",
       "    .dataframe tbody tr th {\n",
       "        vertical-align: top;\n",
       "    }\n",
       "\n",
       "    .dataframe thead th {\n",
       "        text-align: right;\n",
       "    }\n",
       "</style>\n",
       "<table border=\"1\" class=\"dataframe\">\n",
       "  <thead>\n",
       "    <tr style=\"text-align: right;\">\n",
       "      <th></th>\n",
       "      <th>Year</th>\n",
       "      <th>State</th>\n",
       "      <th>Type</th>\n",
       "      <th>Length</th>\n",
       "      <th>Value</th>\n",
       "      <th>Expenses</th>\n",
       "      <th>Period</th>\n",
       "    </tr>\n",
       "  </thead>\n",
       "  <tbody>\n",
       "    <tr>\n",
       "      <th>0</th>\n",
       "      <td>2013</td>\n",
       "      <td>Alabama</td>\n",
       "      <td>Private</td>\n",
       "      <td>4-year</td>\n",
       "      <td>13983</td>\n",
       "      <td>Fees</td>\n",
       "      <td>4</td>\n",
       "    </tr>\n",
       "    <tr>\n",
       "      <th>1</th>\n",
       "      <td>2013</td>\n",
       "      <td>Alabama</td>\n",
       "      <td>Private</td>\n",
       "      <td>4-year</td>\n",
       "      <td>8503</td>\n",
       "      <td>Room</td>\n",
       "      <td>4</td>\n",
       "    </tr>\n",
       "    <tr>\n",
       "      <th>2</th>\n",
       "      <td>2013</td>\n",
       "      <td>Alabama</td>\n",
       "      <td>Public In-State</td>\n",
       "      <td>2-year</td>\n",
       "      <td>4048</td>\n",
       "      <td>Fees</td>\n",
       "      <td>2</td>\n",
       "    </tr>\n",
       "    <tr>\n",
       "      <th>3</th>\n",
       "      <td>2013</td>\n",
       "      <td>Alabama</td>\n",
       "      <td>Public In-State</td>\n",
       "      <td>4-year</td>\n",
       "      <td>8073</td>\n",
       "      <td>Fees</td>\n",
       "      <td>4</td>\n",
       "    </tr>\n",
       "    <tr>\n",
       "      <th>4</th>\n",
       "      <td>2013</td>\n",
       "      <td>Alabama</td>\n",
       "      <td>Public In-State</td>\n",
       "      <td>4-year</td>\n",
       "      <td>8473</td>\n",
       "      <td>Room</td>\n",
       "      <td>4</td>\n",
       "    </tr>\n",
       "  </tbody>\n",
       "</table>\n",
       "</div>"
      ],
      "text/plain": [
       "   Year    State             Type  Length  Value Expenses Period\n",
       "0  2013  Alabama          Private  4-year  13983     Fees      4\n",
       "1  2013  Alabama          Private  4-year   8503     Room      4\n",
       "2  2013  Alabama  Public In-State  2-year   4048     Fees      2\n",
       "3  2013  Alabama  Public In-State  4-year   8073     Fees      4\n",
       "4  2013  Alabama  Public In-State  4-year   8473     Room      4"
      ]
     },
     "execution_count": 17,
     "metadata": {},
     "output_type": "execute_result"
    }
   ],
   "source": [
    "df1.head()"
   ]
  },
  {
   "cell_type": "markdown",
   "id": "31518a12",
   "metadata": {},
   "source": [
    "- dropping the Length Column"
   ]
  },
  {
   "cell_type": "code",
   "execution_count": 18,
   "id": "b7fef892",
   "metadata": {},
   "outputs": [],
   "source": [
    "df2 = df1.drop(['Length'], axis=1)"
   ]
  },
  {
   "cell_type": "markdown",
   "id": "18e5eeaa",
   "metadata": {},
   "source": [
    "- Starting 10 values of the data set "
   ]
  },
  {
   "cell_type": "code",
   "execution_count": 19,
   "id": "ab2ca6a2",
   "metadata": {
    "scrolled": true
   },
   "outputs": [
    {
     "data": {
      "text/html": [
       "<div>\n",
       "<style scoped>\n",
       "    .dataframe tbody tr th:only-of-type {\n",
       "        vertical-align: middle;\n",
       "    }\n",
       "\n",
       "    .dataframe tbody tr th {\n",
       "        vertical-align: top;\n",
       "    }\n",
       "\n",
       "    .dataframe thead th {\n",
       "        text-align: right;\n",
       "    }\n",
       "</style>\n",
       "<table border=\"1\" class=\"dataframe\">\n",
       "  <thead>\n",
       "    <tr style=\"text-align: right;\">\n",
       "      <th></th>\n",
       "      <th>Year</th>\n",
       "      <th>State</th>\n",
       "      <th>Type</th>\n",
       "      <th>Value</th>\n",
       "      <th>Expenses</th>\n",
       "      <th>Period</th>\n",
       "    </tr>\n",
       "  </thead>\n",
       "  <tbody>\n",
       "    <tr>\n",
       "      <th>0</th>\n",
       "      <td>2013</td>\n",
       "      <td>Alabama</td>\n",
       "      <td>Private</td>\n",
       "      <td>13983</td>\n",
       "      <td>Fees</td>\n",
       "      <td>4</td>\n",
       "    </tr>\n",
       "    <tr>\n",
       "      <th>1</th>\n",
       "      <td>2013</td>\n",
       "      <td>Alabama</td>\n",
       "      <td>Private</td>\n",
       "      <td>8503</td>\n",
       "      <td>Room</td>\n",
       "      <td>4</td>\n",
       "    </tr>\n",
       "    <tr>\n",
       "      <th>2</th>\n",
       "      <td>2013</td>\n",
       "      <td>Alabama</td>\n",
       "      <td>Public In-State</td>\n",
       "      <td>4048</td>\n",
       "      <td>Fees</td>\n",
       "      <td>2</td>\n",
       "    </tr>\n",
       "    <tr>\n",
       "      <th>3</th>\n",
       "      <td>2013</td>\n",
       "      <td>Alabama</td>\n",
       "      <td>Public In-State</td>\n",
       "      <td>8073</td>\n",
       "      <td>Fees</td>\n",
       "      <td>4</td>\n",
       "    </tr>\n",
       "    <tr>\n",
       "      <th>4</th>\n",
       "      <td>2013</td>\n",
       "      <td>Alabama</td>\n",
       "      <td>Public In-State</td>\n",
       "      <td>8473</td>\n",
       "      <td>Room</td>\n",
       "      <td>4</td>\n",
       "    </tr>\n",
       "    <tr>\n",
       "      <th>5</th>\n",
       "      <td>2013</td>\n",
       "      <td>Alabama</td>\n",
       "      <td>Public Out-of-State</td>\n",
       "      <td>7736</td>\n",
       "      <td>Fees</td>\n",
       "      <td>2</td>\n",
       "    </tr>\n",
       "    <tr>\n",
       "      <th>6</th>\n",
       "      <td>2013</td>\n",
       "      <td>Alabama</td>\n",
       "      <td>Public Out-of-State</td>\n",
       "      <td>20380</td>\n",
       "      <td>Fees</td>\n",
       "      <td>4</td>\n",
       "    </tr>\n",
       "    <tr>\n",
       "      <th>7</th>\n",
       "      <td>2013</td>\n",
       "      <td>Alabama</td>\n",
       "      <td>Public Out-of-State</td>\n",
       "      <td>8473</td>\n",
       "      <td>Room</td>\n",
       "      <td>4</td>\n",
       "    </tr>\n",
       "    <tr>\n",
       "      <th>8</th>\n",
       "      <td>2013</td>\n",
       "      <td>Alaska</td>\n",
       "      <td>Private</td>\n",
       "      <td>21496</td>\n",
       "      <td>Fees</td>\n",
       "      <td>4</td>\n",
       "    </tr>\n",
       "    <tr>\n",
       "      <th>9</th>\n",
       "      <td>2013</td>\n",
       "      <td>Alaska</td>\n",
       "      <td>Private</td>\n",
       "      <td>8923</td>\n",
       "      <td>Room</td>\n",
       "      <td>4</td>\n",
       "    </tr>\n",
       "  </tbody>\n",
       "</table>\n",
       "</div>"
      ],
      "text/plain": [
       "   Year    State                 Type  Value Expenses Period\n",
       "0  2013  Alabama              Private  13983     Fees      4\n",
       "1  2013  Alabama              Private   8503     Room      4\n",
       "2  2013  Alabama      Public In-State   4048     Fees      2\n",
       "3  2013  Alabama      Public In-State   8073     Fees      4\n",
       "4  2013  Alabama      Public In-State   8473     Room      4\n",
       "5  2013  Alabama  Public Out-of-State   7736     Fees      2\n",
       "6  2013  Alabama  Public Out-of-State  20380     Fees      4\n",
       "7  2013  Alabama  Public Out-of-State   8473     Room      4\n",
       "8  2013   Alaska              Private  21496     Fees      4\n",
       "9  2013   Alaska              Private   8923     Room      4"
      ]
     },
     "execution_count": 19,
     "metadata": {},
     "output_type": "execute_result"
    }
   ],
   "source": [
    "df2.head(10)"
   ]
  },
  {
   "cell_type": "code",
   "execution_count": 20,
   "id": "7d71a328",
   "metadata": {},
   "outputs": [
    {
     "data": {
      "text/plain": [
       "(3548, 6)"
      ]
     },
     "execution_count": 20,
     "metadata": {},
     "output_type": "execute_result"
    }
   ],
   "source": [
    "df2.shape\n"
   ]
  },
  {
   "cell_type": "markdown",
   "id": "eaad55e4",
   "metadata": {},
   "source": [
    "## Data Visualization"
   ]
  },
  {
   "cell_type": "markdown",
   "id": "e34acf21",
   "metadata": {},
   "source": [
    "- In the following visualization we can see that the there are higher number of the Fees values then Rooms in the data set\n",
    "- There are **2198** Fees and **1350** Rooms"
   ]
  },
  {
   "cell_type": "code",
   "execution_count": 28,
   "id": "f2a87dc2",
   "metadata": {},
   "outputs": [
    {
     "data": {
      "text/plain": [
       "2198"
      ]
     },
     "execution_count": 28,
     "metadata": {},
     "output_type": "execute_result"
    }
   ],
   "source": [
    "(df2['Expenses'] == \"Fees\").sum()"
   ]
  },
  {
   "cell_type": "code",
   "execution_count": 29,
   "id": "8e078c1e",
   "metadata": {},
   "outputs": [
    {
     "data": {
      "text/plain": [
       "1350"
      ]
     },
     "execution_count": 29,
     "metadata": {},
     "output_type": "execute_result"
    }
   ],
   "source": [
    "(df2['Expenses'] == \"Room\").sum()"
   ]
  },
  {
   "cell_type": "code",
   "execution_count": 21,
   "id": "e896eb21",
   "metadata": {},
   "outputs": [
    {
     "data": {
      "text/plain": [
       "Text(0, 0.5, 'Count')"
      ]
     },
     "execution_count": 21,
     "metadata": {},
     "output_type": "execute_result"
    },
    {
     "data": {
      "image/png": "[encoded data removed]",
      "text/plain": [
       "<Figure size 2000x1000 with 1 Axes>"
      ]
     },
     "metadata": {},
     "output_type": "display_data"
    }
   ],
   "source": [
    "import matplotlib\n",
    "matplotlib.rcParams[\"figure.figsize\"] = (20,10)\n",
    "plt.hist(df2.Expenses)\n",
    "plt.xlabel(\"Expenses\")\n",
    "plt.ylabel(\"Count\")"
   ]
  },
  {
   "cell_type": "markdown",
   "id": "08a85ef4",
   "metadata": {},
   "source": [
    "- In the following visualization we can see that the there are higher number of the 4 year values then 2 year in the data set\n",
    "- Here we can see that there are **2672 values of 4 year** and **876 values of 2 year**"
   ]
  },
  {
   "cell_type": "code",
   "execution_count": 32,
   "id": "b5b06c4b",
   "metadata": {},
   "outputs": [
    {
     "data": {
      "text/plain": [
       "2672"
      ]
     },
     "execution_count": 32,
     "metadata": {},
     "output_type": "execute_result"
    }
   ],
   "source": [
    "(df2['Period'] == \"4\").sum()"
   ]
  },
  {
   "cell_type": "code",
   "execution_count": 33,
   "id": "ab8cd7cf",
   "metadata": {},
   "outputs": [
    {
     "data": {
      "text/plain": [
       "876"
      ]
     },
     "execution_count": 33,
     "metadata": {},
     "output_type": "execute_result"
    }
   ],
   "source": [
    "(df2['Period'] == \"2\").sum()"
   ]
  },
  {
   "cell_type": "code",
   "execution_count": 16,
   "id": "b1abb87a",
   "metadata": {},
   "outputs": [
    {
     "data": {
      "text/plain": [
       "Text(0, 0.5, 'Count')"
      ]
     },
     "execution_count": 16,
     "metadata": {},
     "output_type": "execute_result"
    },
    {
     "data": {
      "image/png": "[encoded data removed]",
      "text/plain": [
       "<Figure size 2000x1000 with 1 Axes>"
      ]
     },
     "metadata": {},
     "output_type": "display_data"
    }
   ],
   "source": [
    "matplotlib.rcParams[\"figure.figsize\"] = (20,10)\n",
    "plt.hist(df2.Period)\n",
    "plt.xlabel(\"Time Period\")\n",
    "plt.ylabel(\"Count\")"
   ]
  },
  {
   "cell_type": "markdown",
   "id": "f49dabb0",
   "metadata": {},
   "source": [
    "- In the following visualization we can see that the there are higher number of the Public-Out-of-State Universities \n",
    "- Here we can see that there are **1347 Public-Out-of-State Universities **."
   ]
  },
  {
   "cell_type": "code",
   "execution_count": 36,
   "id": "2134ee1c",
   "metadata": {},
   "outputs": [
    {
     "data": {
      "text/plain": [
       "905"
      ]
     },
     "execution_count": 36,
     "metadata": {},
     "output_type": "execute_result"
    }
   ],
   "source": [
    "(df2['Type'] == \"Private\").sum()"
   ]
  },
  {
   "cell_type": "code",
   "execution_count": 39,
   "id": "33cb654f",
   "metadata": {},
   "outputs": [
    {
     "data": {
      "text/plain": [
       "1296"
      ]
     },
     "execution_count": 39,
     "metadata": {},
     "output_type": "execute_result"
    }
   ],
   "source": [
    "(df2['Type'] == \"Public In-State\").sum()"
   ]
  },
  {
   "cell_type": "code",
   "execution_count": 40,
   "id": "7735bb27",
   "metadata": {},
   "outputs": [
    {
     "data": {
      "text/plain": [
       "1347"
      ]
     },
     "execution_count": 40,
     "metadata": {},
     "output_type": "execute_result"
    }
   ],
   "source": [
    "(df2['Type'] == \"Public Out-of-State\").sum()"
   ]
  },
  {
   "cell_type": "code",
   "execution_count": 17,
   "id": "1bcdafda",
   "metadata": {
    "scrolled": true
   },
   "outputs": [
    {
     "data": {
      "text/plain": [
       "Text(0, 0.5, 'Count')"
      ]
     },
     "execution_count": 17,
     "metadata": {},
     "output_type": "execute_result"
    },
    {
     "data": {
      "image/png": "[encoded data removed]",
      "text/plain": [
       "<Figure size 2000x1000 with 1 Axes>"
      ]
     },
     "metadata": {},
     "output_type": "display_data"
    }
   ],
   "source": [
    "matplotlib.rcParams[\"figure.figsize\"] = (20,10)\n",
    "plt.hist(df2.Type)\n",
    "plt.xlabel(\"Type of Unversity\")\n",
    "plt.ylabel(\"Count\")"
   ]
  },
  {
   "cell_type": "markdown",
   "id": "1b3b7d3e",
   "metadata": {},
   "source": [
    "- Here in these visualizatio we can see that the cost or total cost of living is maximum in the range between  \n",
    "  ** $ 7000-15000**"
   ]
  },
  {
   "cell_type": "code",
   "execution_count": 18,
   "id": "6080181d",
   "metadata": {},
   "outputs": [
    {
     "data": {
      "text/plain": [
       "Text(0, 0.5, 'Count')"
      ]
     },
     "execution_count": 18,
     "metadata": {},
     "output_type": "execute_result"
    },
    {
     "data": {
      "image/png": "[encoded data removed]",
      "text/plain": [
       "<Figure size 2000x1000 with 1 Axes>"
      ]
     },
     "metadata": {},
     "output_type": "display_data"
    }
   ],
   "source": [
    "matplotlib.rcParams[\"figure.figsize\"] = (20,10)\n",
    "plt.hist(df2.Value)\n",
    "plt.xlabel(\"Total Cost\")\n",
    "plt.ylabel(\"Count\")"
   ]
  },
  {
   "cell_type": "markdown",
   "id": "b65a1905",
   "metadata": {},
   "source": [
    "-  Based on the above given data we have to find the cost of living based on the state year type of university, period ,      expenses\n",
    "- here the target is values which is cost of living "
   ]
  },
  {
   "cell_type": "code",
   "execution_count": 34,
   "id": "81b42a9a",
   "metadata": {},
   "outputs": [],
   "source": [
    "inputs = df.drop('Value',axis = 'columns')\n",
    "target = df['Value']"
   ]
  },
  {
   "cell_type": "code",
   "execution_count": 35,
   "id": "29ffa49d",
   "metadata": {
    "scrolled": false
   },
   "outputs": [
    {
     "data": {
      "text/plain": [
       "0       13983\n",
       "1        8503\n",
       "2        4048\n",
       "3        8073\n",
       "4        8473\n",
       "        ...  \n",
       "3543     3987\n",
       "3544     9799\n",
       "3545     9820\n",
       "3546    14710\n",
       "3547     9799\n",
       "Name: Value, Length: 3548, dtype: int64"
      ]
     },
     "execution_count": 35,
     "metadata": {},
     "output_type": "execute_result"
    }
   ],
   "source": [
    "target"
   ]
  },
  {
   "cell_type": "markdown",
   "id": "862f7387",
   "metadata": {},
   "source": [
    "## Machine Learning Model"
   ]
  },
  {
   "cell_type": "markdown",
   "id": "1b0bb8f7",
   "metadata": {},
   "source": [
    "- Here we are applying the Decision Tree model for the prediction of the price b ased on given inputs "
   ]
  },
  {
   "cell_type": "code",
   "execution_count": 36,
   "id": "f77eab27",
   "metadata": {},
   "outputs": [],
   "source": [
    "from sklearn.preprocessing import LabelEncoder"
   ]
  },
  {
   "cell_type": "code",
   "execution_count": 43,
   "id": "24cecc5b",
   "metadata": {},
   "outputs": [],
   "source": [
    "le_state = LabelEncoder()\n",
    "le_type = LabelEncoder()\n",
    "le_expenses = LabelEncoder()\n",
    "le_period = LabelEncoder()"
   ]
  },
  {
   "cell_type": "code",
   "execution_count": 58,
   "id": "5c0ead08",
   "metadata": {},
   "outputs": [],
   "source": [
    "inputs['state_n'] = le_state.fit_transform(inputs['State'])\n",
    "inputs['type_n'] = le_state.fit_transform(inputs['Type'])\n",
    "inputs['expenses_n'] = le_state.fit_transform(inputs['Expenses'])\n",
    "inputs['period_n'] = le_state.fit_transform(inputs['Length'])\n",
    "inputs['year_n'] = le_state.fit_transform(inputs['Year'])\n"
   ]
  },
  {
   "cell_type": "code",
   "execution_count": 89,
   "id": "6bac73c9",
   "metadata": {},
   "outputs": [
    {
     "data": {
      "text/html": [
       "<div>\n",
       "<style scoped>\n",
       "    .dataframe tbody tr th:only-of-type {\n",
       "        vertical-align: middle;\n",
       "    }\n",
       "\n",
       "    .dataframe tbody tr th {\n",
       "        vertical-align: top;\n",
       "    }\n",
       "\n",
       "    .dataframe thead th {\n",
       "        text-align: right;\n",
       "    }\n",
       "</style>\n",
       "<table border=\"1\" class=\"dataframe\">\n",
       "  <thead>\n",
       "    <tr style=\"text-align: right;\">\n",
       "      <th></th>\n",
       "      <th>state_n</th>\n",
       "      <th>type_n</th>\n",
       "      <th>expenses_n</th>\n",
       "      <th>period_n</th>\n",
       "      <th>year_n</th>\n",
       "    </tr>\n",
       "  </thead>\n",
       "  <tbody>\n",
       "    <tr>\n",
       "      <th>0</th>\n",
       "      <td>0</td>\n",
       "      <td>0</td>\n",
       "      <td>0</td>\n",
       "      <td>1</td>\n",
       "      <td>0</td>\n",
       "    </tr>\n",
       "    <tr>\n",
       "      <th>1</th>\n",
       "      <td>0</td>\n",
       "      <td>0</td>\n",
       "      <td>1</td>\n",
       "      <td>1</td>\n",
       "      <td>0</td>\n",
       "    </tr>\n",
       "    <tr>\n",
       "      <th>2</th>\n",
       "      <td>0</td>\n",
       "      <td>1</td>\n",
       "      <td>0</td>\n",
       "      <td>0</td>\n",
       "      <td>0</td>\n",
       "    </tr>\n",
       "    <tr>\n",
       "      <th>3</th>\n",
       "      <td>0</td>\n",
       "      <td>1</td>\n",
       "      <td>0</td>\n",
       "      <td>1</td>\n",
       "      <td>0</td>\n",
       "    </tr>\n",
       "    <tr>\n",
       "      <th>4</th>\n",
       "      <td>0</td>\n",
       "      <td>1</td>\n",
       "      <td>1</td>\n",
       "      <td>1</td>\n",
       "      <td>0</td>\n",
       "    </tr>\n",
       "    <tr>\n",
       "      <th>5</th>\n",
       "      <td>0</td>\n",
       "      <td>2</td>\n",
       "      <td>0</td>\n",
       "      <td>0</td>\n",
       "      <td>0</td>\n",
       "    </tr>\n",
       "    <tr>\n",
       "      <th>6</th>\n",
       "      <td>0</td>\n",
       "      <td>2</td>\n",
       "      <td>0</td>\n",
       "      <td>1</td>\n",
       "      <td>0</td>\n",
       "    </tr>\n",
       "    <tr>\n",
       "      <th>7</th>\n",
       "      <td>0</td>\n",
       "      <td>2</td>\n",
       "      <td>1</td>\n",
       "      <td>1</td>\n",
       "      <td>0</td>\n",
       "    </tr>\n",
       "    <tr>\n",
       "      <th>8</th>\n",
       "      <td>1</td>\n",
       "      <td>0</td>\n",
       "      <td>0</td>\n",
       "      <td>1</td>\n",
       "      <td>0</td>\n",
       "    </tr>\n",
       "    <tr>\n",
       "      <th>9</th>\n",
       "      <td>1</td>\n",
       "      <td>0</td>\n",
       "      <td>1</td>\n",
       "      <td>1</td>\n",
       "      <td>0</td>\n",
       "    </tr>\n",
       "    <tr>\n",
       "      <th>10</th>\n",
       "      <td>1</td>\n",
       "      <td>1</td>\n",
       "      <td>0</td>\n",
       "      <td>0</td>\n",
       "      <td>0</td>\n",
       "    </tr>\n",
       "    <tr>\n",
       "      <th>11</th>\n",
       "      <td>1</td>\n",
       "      <td>1</td>\n",
       "      <td>0</td>\n",
       "      <td>1</td>\n",
       "      <td>0</td>\n",
       "    </tr>\n",
       "    <tr>\n",
       "      <th>12</th>\n",
       "      <td>1</td>\n",
       "      <td>1</td>\n",
       "      <td>1</td>\n",
       "      <td>1</td>\n",
       "      <td>0</td>\n",
       "    </tr>\n",
       "    <tr>\n",
       "      <th>13</th>\n",
       "      <td>1</td>\n",
       "      <td>2</td>\n",
       "      <td>0</td>\n",
       "      <td>0</td>\n",
       "      <td>0</td>\n",
       "    </tr>\n",
       "    <tr>\n",
       "      <th>14</th>\n",
       "      <td>1</td>\n",
       "      <td>2</td>\n",
       "      <td>0</td>\n",
       "      <td>1</td>\n",
       "      <td>0</td>\n",
       "    </tr>\n",
       "    <tr>\n",
       "      <th>15</th>\n",
       "      <td>1</td>\n",
       "      <td>2</td>\n",
       "      <td>1</td>\n",
       "      <td>1</td>\n",
       "      <td>0</td>\n",
       "    </tr>\n",
       "    <tr>\n",
       "      <th>16</th>\n",
       "      <td>2</td>\n",
       "      <td>0</td>\n",
       "      <td>0</td>\n",
       "      <td>1</td>\n",
       "      <td>0</td>\n",
       "    </tr>\n",
       "    <tr>\n",
       "      <th>17</th>\n",
       "      <td>2</td>\n",
       "      <td>0</td>\n",
       "      <td>1</td>\n",
       "      <td>1</td>\n",
       "      <td>0</td>\n",
       "    </tr>\n",
       "    <tr>\n",
       "      <th>18</th>\n",
       "      <td>2</td>\n",
       "      <td>1</td>\n",
       "      <td>0</td>\n",
       "      <td>0</td>\n",
       "      <td>0</td>\n",
       "    </tr>\n",
       "    <tr>\n",
       "      <th>19</th>\n",
       "      <td>2</td>\n",
       "      <td>1</td>\n",
       "      <td>0</td>\n",
       "      <td>1</td>\n",
       "      <td>0</td>\n",
       "    </tr>\n",
       "    <tr>\n",
       "      <th>20</th>\n",
       "      <td>2</td>\n",
       "      <td>1</td>\n",
       "      <td>1</td>\n",
       "      <td>1</td>\n",
       "      <td>0</td>\n",
       "    </tr>\n",
       "    <tr>\n",
       "      <th>21</th>\n",
       "      <td>2</td>\n",
       "      <td>2</td>\n",
       "      <td>0</td>\n",
       "      <td>0</td>\n",
       "      <td>0</td>\n",
       "    </tr>\n",
       "    <tr>\n",
       "      <th>22</th>\n",
       "      <td>2</td>\n",
       "      <td>2</td>\n",
       "      <td>0</td>\n",
       "      <td>1</td>\n",
       "      <td>0</td>\n",
       "    </tr>\n",
       "    <tr>\n",
       "      <th>23</th>\n",
       "      <td>2</td>\n",
       "      <td>2</td>\n",
       "      <td>1</td>\n",
       "      <td>1</td>\n",
       "      <td>0</td>\n",
       "    </tr>\n",
       "    <tr>\n",
       "      <th>24</th>\n",
       "      <td>3</td>\n",
       "      <td>0</td>\n",
       "      <td>0</td>\n",
       "      <td>1</td>\n",
       "      <td>0</td>\n",
       "    </tr>\n",
       "    <tr>\n",
       "      <th>25</th>\n",
       "      <td>3</td>\n",
       "      <td>0</td>\n",
       "      <td>1</td>\n",
       "      <td>1</td>\n",
       "      <td>0</td>\n",
       "    </tr>\n",
       "    <tr>\n",
       "      <th>26</th>\n",
       "      <td>3</td>\n",
       "      <td>1</td>\n",
       "      <td>0</td>\n",
       "      <td>0</td>\n",
       "      <td>0</td>\n",
       "    </tr>\n",
       "    <tr>\n",
       "      <th>27</th>\n",
       "      <td>3</td>\n",
       "      <td>1</td>\n",
       "      <td>0</td>\n",
       "      <td>1</td>\n",
       "      <td>0</td>\n",
       "    </tr>\n",
       "    <tr>\n",
       "      <th>28</th>\n",
       "      <td>3</td>\n",
       "      <td>1</td>\n",
       "      <td>1</td>\n",
       "      <td>1</td>\n",
       "      <td>0</td>\n",
       "    </tr>\n",
       "    <tr>\n",
       "      <th>29</th>\n",
       "      <td>3</td>\n",
       "      <td>2</td>\n",
       "      <td>0</td>\n",
       "      <td>0</td>\n",
       "      <td>0</td>\n",
       "    </tr>\n",
       "    <tr>\n",
       "      <th>30</th>\n",
       "      <td>3</td>\n",
       "      <td>2</td>\n",
       "      <td>0</td>\n",
       "      <td>1</td>\n",
       "      <td>0</td>\n",
       "    </tr>\n",
       "    <tr>\n",
       "      <th>31</th>\n",
       "      <td>3</td>\n",
       "      <td>2</td>\n",
       "      <td>1</td>\n",
       "      <td>1</td>\n",
       "      <td>0</td>\n",
       "    </tr>\n",
       "    <tr>\n",
       "      <th>32</th>\n",
       "      <td>4</td>\n",
       "      <td>0</td>\n",
       "      <td>0</td>\n",
       "      <td>1</td>\n",
       "      <td>0</td>\n",
       "    </tr>\n",
       "    <tr>\n",
       "      <th>33</th>\n",
       "      <td>4</td>\n",
       "      <td>0</td>\n",
       "      <td>1</td>\n",
       "      <td>1</td>\n",
       "      <td>0</td>\n",
       "    </tr>\n",
       "    <tr>\n",
       "      <th>34</th>\n",
       "      <td>4</td>\n",
       "      <td>1</td>\n",
       "      <td>0</td>\n",
       "      <td>0</td>\n",
       "      <td>0</td>\n",
       "    </tr>\n",
       "    <tr>\n",
       "      <th>35</th>\n",
       "      <td>4</td>\n",
       "      <td>1</td>\n",
       "      <td>0</td>\n",
       "      <td>1</td>\n",
       "      <td>0</td>\n",
       "    </tr>\n",
       "    <tr>\n",
       "      <th>36</th>\n",
       "      <td>4</td>\n",
       "      <td>1</td>\n",
       "      <td>1</td>\n",
       "      <td>1</td>\n",
       "      <td>0</td>\n",
       "    </tr>\n",
       "    <tr>\n",
       "      <th>37</th>\n",
       "      <td>4</td>\n",
       "      <td>2</td>\n",
       "      <td>0</td>\n",
       "      <td>0</td>\n",
       "      <td>0</td>\n",
       "    </tr>\n",
       "    <tr>\n",
       "      <th>38</th>\n",
       "      <td>4</td>\n",
       "      <td>2</td>\n",
       "      <td>0</td>\n",
       "      <td>1</td>\n",
       "      <td>0</td>\n",
       "    </tr>\n",
       "    <tr>\n",
       "      <th>39</th>\n",
       "      <td>4</td>\n",
       "      <td>2</td>\n",
       "      <td>1</td>\n",
       "      <td>1</td>\n",
       "      <td>0</td>\n",
       "    </tr>\n",
       "    <tr>\n",
       "      <th>40</th>\n",
       "      <td>5</td>\n",
       "      <td>0</td>\n",
       "      <td>0</td>\n",
       "      <td>1</td>\n",
       "      <td>0</td>\n",
       "    </tr>\n",
       "    <tr>\n",
       "      <th>41</th>\n",
       "      <td>5</td>\n",
       "      <td>0</td>\n",
       "      <td>1</td>\n",
       "      <td>1</td>\n",
       "      <td>0</td>\n",
       "    </tr>\n",
       "    <tr>\n",
       "      <th>42</th>\n",
       "      <td>5</td>\n",
       "      <td>1</td>\n",
       "      <td>0</td>\n",
       "      <td>0</td>\n",
       "      <td>0</td>\n",
       "    </tr>\n",
       "    <tr>\n",
       "      <th>43</th>\n",
       "      <td>5</td>\n",
       "      <td>1</td>\n",
       "      <td>0</td>\n",
       "      <td>1</td>\n",
       "      <td>0</td>\n",
       "    </tr>\n",
       "    <tr>\n",
       "      <th>44</th>\n",
       "      <td>5</td>\n",
       "      <td>1</td>\n",
       "      <td>1</td>\n",
       "      <td>1</td>\n",
       "      <td>0</td>\n",
       "    </tr>\n",
       "    <tr>\n",
       "      <th>45</th>\n",
       "      <td>5</td>\n",
       "      <td>2</td>\n",
       "      <td>0</td>\n",
       "      <td>0</td>\n",
       "      <td>0</td>\n",
       "    </tr>\n",
       "    <tr>\n",
       "      <th>46</th>\n",
       "      <td>5</td>\n",
       "      <td>2</td>\n",
       "      <td>0</td>\n",
       "      <td>1</td>\n",
       "      <td>0</td>\n",
       "    </tr>\n",
       "    <tr>\n",
       "      <th>47</th>\n",
       "      <td>5</td>\n",
       "      <td>2</td>\n",
       "      <td>1</td>\n",
       "      <td>1</td>\n",
       "      <td>0</td>\n",
       "    </tr>\n",
       "    <tr>\n",
       "      <th>48</th>\n",
       "      <td>6</td>\n",
       "      <td>0</td>\n",
       "      <td>0</td>\n",
       "      <td>1</td>\n",
       "      <td>0</td>\n",
       "    </tr>\n",
       "    <tr>\n",
       "      <th>49</th>\n",
       "      <td>6</td>\n",
       "      <td>0</td>\n",
       "      <td>1</td>\n",
       "      <td>1</td>\n",
       "      <td>0</td>\n",
       "    </tr>\n",
       "  </tbody>\n",
       "</table>\n",
       "</div>"
      ],
      "text/plain": [
       "    state_n  type_n  expenses_n  period_n  year_n\n",
       "0         0       0           0         1       0\n",
       "1         0       0           1         1       0\n",
       "2         0       1           0         0       0\n",
       "3         0       1           0         1       0\n",
       "4         0       1           1         1       0\n",
       "5         0       2           0         0       0\n",
       "6         0       2           0         1       0\n",
       "7         0       2           1         1       0\n",
       "8         1       0           0         1       0\n",
       "9         1       0           1         1       0\n",
       "10        1       1           0         0       0\n",
       "11        1       1           0         1       0\n",
       "12        1       1           1         1       0\n",
       "13        1       2           0         0       0\n",
       "14        1       2           0         1       0\n",
       "15        1       2           1         1       0\n",
       "16        2       0           0         1       0\n",
       "17        2       0           1         1       0\n",
       "18        2       1           0         0       0\n",
       "19        2       1           0         1       0\n",
       "20        2       1           1         1       0\n",
       "21        2       2           0         0       0\n",
       "22        2       2           0         1       0\n",
       "23        2       2           1         1       0\n",
       "24        3       0           0         1       0\n",
       "25        3       0           1         1       0\n",
       "26        3       1           0         0       0\n",
       "27        3       1           0         1       0\n",
       "28        3       1           1         1       0\n",
       "29        3       2           0         0       0\n",
       "30        3       2           0         1       0\n",
       "31        3       2           1         1       0\n",
       "32        4       0           0         1       0\n",
       "33        4       0           1         1       0\n",
       "34        4       1           0         0       0\n",
       "35        4       1           0         1       0\n",
       "36        4       1           1         1       0\n",
       "37        4       2           0         0       0\n",
       "38        4       2           0         1       0\n",
       "39        4       2           1         1       0\n",
       "40        5       0           0         1       0\n",
       "41        5       0           1         1       0\n",
       "42        5       1           0         0       0\n",
       "43        5       1           0         1       0\n",
       "44        5       1           1         1       0\n",
       "45        5       2           0         0       0\n",
       "46        5       2           0         1       0\n",
       "47        5       2           1         1       0\n",
       "48        6       0           0         1       0\n",
       "49        6       0           1         1       0"
      ]
     },
     "execution_count": 89,
     "metadata": {},
     "output_type": "execute_result"
    }
   ],
   "source": [
    "inputs_n = inputs.drop(['State','Type','Expenses','Length','Expense','Year'],axis = 'columns')\n",
    "inputs_n.head(50)"
   ]
  },
  {
   "cell_type": "code",
   "execution_count": 90,
   "id": "5e919f42",
   "metadata": {
    "scrolled": true
   },
   "outputs": [
    {
     "data": {
      "text/html": [
       "<div>\n",
       "<style scoped>\n",
       "    .dataframe tbody tr th:only-of-type {\n",
       "        vertical-align: middle;\n",
       "    }\n",
       "\n",
       "    .dataframe tbody tr th {\n",
       "        vertical-align: top;\n",
       "    }\n",
       "\n",
       "    .dataframe thead th {\n",
       "        text-align: right;\n",
       "    }\n",
       "</style>\n",
       "<table border=\"1\" class=\"dataframe\">\n",
       "  <thead>\n",
       "    <tr style=\"text-align: right;\">\n",
       "      <th></th>\n",
       "      <th>Year</th>\n",
       "      <th>State</th>\n",
       "      <th>Type</th>\n",
       "      <th>Value</th>\n",
       "      <th>Expenses</th>\n",
       "      <th>Period</th>\n",
       "    </tr>\n",
       "  </thead>\n",
       "  <tbody>\n",
       "    <tr>\n",
       "      <th>0</th>\n",
       "      <td>2013</td>\n",
       "      <td>Alabama</td>\n",
       "      <td>Private</td>\n",
       "      <td>13983</td>\n",
       "      <td>Fees</td>\n",
       "      <td>4</td>\n",
       "    </tr>\n",
       "    <tr>\n",
       "      <th>1</th>\n",
       "      <td>2013</td>\n",
       "      <td>Alabama</td>\n",
       "      <td>Private</td>\n",
       "      <td>8503</td>\n",
       "      <td>Room</td>\n",
       "      <td>4</td>\n",
       "    </tr>\n",
       "    <tr>\n",
       "      <th>2</th>\n",
       "      <td>2013</td>\n",
       "      <td>Alabama</td>\n",
       "      <td>Public In-State</td>\n",
       "      <td>4048</td>\n",
       "      <td>Fees</td>\n",
       "      <td>2</td>\n",
       "    </tr>\n",
       "    <tr>\n",
       "      <th>3</th>\n",
       "      <td>2013</td>\n",
       "      <td>Alabama</td>\n",
       "      <td>Public In-State</td>\n",
       "      <td>8073</td>\n",
       "      <td>Fees</td>\n",
       "      <td>4</td>\n",
       "    </tr>\n",
       "    <tr>\n",
       "      <th>4</th>\n",
       "      <td>2013</td>\n",
       "      <td>Alabama</td>\n",
       "      <td>Public In-State</td>\n",
       "      <td>8473</td>\n",
       "      <td>Room</td>\n",
       "      <td>4</td>\n",
       "    </tr>\n",
       "    <tr>\n",
       "      <th>5</th>\n",
       "      <td>2013</td>\n",
       "      <td>Alabama</td>\n",
       "      <td>Public Out-of-State</td>\n",
       "      <td>7736</td>\n",
       "      <td>Fees</td>\n",
       "      <td>2</td>\n",
       "    </tr>\n",
       "    <tr>\n",
       "      <th>6</th>\n",
       "      <td>2013</td>\n",
       "      <td>Alabama</td>\n",
       "      <td>Public Out-of-State</td>\n",
       "      <td>20380</td>\n",
       "      <td>Fees</td>\n",
       "      <td>4</td>\n",
       "    </tr>\n",
       "    <tr>\n",
       "      <th>7</th>\n",
       "      <td>2013</td>\n",
       "      <td>Alabama</td>\n",
       "      <td>Public Out-of-State</td>\n",
       "      <td>8473</td>\n",
       "      <td>Room</td>\n",
       "      <td>4</td>\n",
       "    </tr>\n",
       "    <tr>\n",
       "      <th>8</th>\n",
       "      <td>2013</td>\n",
       "      <td>Alaska</td>\n",
       "      <td>Private</td>\n",
       "      <td>21496</td>\n",
       "      <td>Fees</td>\n",
       "      <td>4</td>\n",
       "    </tr>\n",
       "    <tr>\n",
       "      <th>9</th>\n",
       "      <td>2013</td>\n",
       "      <td>Alaska</td>\n",
       "      <td>Private</td>\n",
       "      <td>8923</td>\n",
       "      <td>Room</td>\n",
       "      <td>4</td>\n",
       "    </tr>\n",
       "    <tr>\n",
       "      <th>10</th>\n",
       "      <td>2013</td>\n",
       "      <td>Alaska</td>\n",
       "      <td>Public In-State</td>\n",
       "      <td>3972</td>\n",
       "      <td>Fees</td>\n",
       "      <td>2</td>\n",
       "    </tr>\n",
       "    <tr>\n",
       "      <th>11</th>\n",
       "      <td>2013</td>\n",
       "      <td>Alaska</td>\n",
       "      <td>Public In-State</td>\n",
       "      <td>6317</td>\n",
       "      <td>Fees</td>\n",
       "      <td>4</td>\n",
       "    </tr>\n",
       "    <tr>\n",
       "      <th>12</th>\n",
       "      <td>2013</td>\n",
       "      <td>Alaska</td>\n",
       "      <td>Public In-State</td>\n",
       "      <td>9098</td>\n",
       "      <td>Room</td>\n",
       "      <td>4</td>\n",
       "    </tr>\n",
       "    <tr>\n",
       "      <th>13</th>\n",
       "      <td>2013</td>\n",
       "      <td>Alaska</td>\n",
       "      <td>Public Out-of-State</td>\n",
       "      <td>4150</td>\n",
       "      <td>Fees</td>\n",
       "      <td>2</td>\n",
       "    </tr>\n",
       "    <tr>\n",
       "      <th>14</th>\n",
       "      <td>2013</td>\n",
       "      <td>Alaska</td>\n",
       "      <td>Public Out-of-State</td>\n",
       "      <td>18790</td>\n",
       "      <td>Fees</td>\n",
       "      <td>4</td>\n",
       "    </tr>\n",
       "    <tr>\n",
       "      <th>15</th>\n",
       "      <td>2013</td>\n",
       "      <td>Alaska</td>\n",
       "      <td>Public Out-of-State</td>\n",
       "      <td>9098</td>\n",
       "      <td>Room</td>\n",
       "      <td>4</td>\n",
       "    </tr>\n",
       "    <tr>\n",
       "      <th>16</th>\n",
       "      <td>2013</td>\n",
       "      <td>Arizona</td>\n",
       "      <td>Private</td>\n",
       "      <td>11650</td>\n",
       "      <td>Fees</td>\n",
       "      <td>4</td>\n",
       "    </tr>\n",
       "    <tr>\n",
       "      <th>17</th>\n",
       "      <td>2013</td>\n",
       "      <td>Arizona</td>\n",
       "      <td>Private</td>\n",
       "      <td>8744</td>\n",
       "      <td>Room</td>\n",
       "      <td>4</td>\n",
       "    </tr>\n",
       "    <tr>\n",
       "      <th>18</th>\n",
       "      <td>2013</td>\n",
       "      <td>Arizona</td>\n",
       "      <td>Public In-State</td>\n",
       "      <td>1842</td>\n",
       "      <td>Fees</td>\n",
       "      <td>2</td>\n",
       "    </tr>\n",
       "    <tr>\n",
       "      <th>19</th>\n",
       "      <td>2013</td>\n",
       "      <td>Arizona</td>\n",
       "      <td>Public In-State</td>\n",
       "      <td>9694</td>\n",
       "      <td>Fees</td>\n",
       "      <td>4</td>\n",
       "    </tr>\n",
       "    <tr>\n",
       "      <th>20</th>\n",
       "      <td>2013</td>\n",
       "      <td>Arizona</td>\n",
       "      <td>Public In-State</td>\n",
       "      <td>9370</td>\n",
       "      <td>Room</td>\n",
       "      <td>4</td>\n",
       "    </tr>\n",
       "    <tr>\n",
       "      <th>21</th>\n",
       "      <td>2013</td>\n",
       "      <td>Arizona</td>\n",
       "      <td>Public Out-of-State</td>\n",
       "      <td>7870</td>\n",
       "      <td>Fees</td>\n",
       "      <td>2</td>\n",
       "    </tr>\n",
       "    <tr>\n",
       "      <th>22</th>\n",
       "      <td>2013</td>\n",
       "      <td>Arizona</td>\n",
       "      <td>Public Out-of-State</td>\n",
       "      <td>21201</td>\n",
       "      <td>Fees</td>\n",
       "      <td>4</td>\n",
       "    </tr>\n",
       "    <tr>\n",
       "      <th>23</th>\n",
       "      <td>2013</td>\n",
       "      <td>Arizona</td>\n",
       "      <td>Public Out-of-State</td>\n",
       "      <td>9370</td>\n",
       "      <td>Room</td>\n",
       "      <td>4</td>\n",
       "    </tr>\n",
       "    <tr>\n",
       "      <th>24</th>\n",
       "      <td>2013</td>\n",
       "      <td>Arkansas</td>\n",
       "      <td>Private</td>\n",
       "      <td>18004</td>\n",
       "      <td>Fees</td>\n",
       "      <td>4</td>\n",
       "    </tr>\n",
       "    <tr>\n",
       "      <th>25</th>\n",
       "      <td>2013</td>\n",
       "      <td>Arkansas</td>\n",
       "      <td>Private</td>\n",
       "      <td>7263</td>\n",
       "      <td>Room</td>\n",
       "      <td>4</td>\n",
       "    </tr>\n",
       "    <tr>\n",
       "      <th>26</th>\n",
       "      <td>2013</td>\n",
       "      <td>Arkansas</td>\n",
       "      <td>Public In-State</td>\n",
       "      <td>2633</td>\n",
       "      <td>Fees</td>\n",
       "      <td>2</td>\n",
       "    </tr>\n",
       "    <tr>\n",
       "      <th>27</th>\n",
       "      <td>2013</td>\n",
       "      <td>Arkansas</td>\n",
       "      <td>Public In-State</td>\n",
       "      <td>6604</td>\n",
       "      <td>Fees</td>\n",
       "      <td>4</td>\n",
       "    </tr>\n",
       "    <tr>\n",
       "      <th>28</th>\n",
       "      <td>2013</td>\n",
       "      <td>Arkansas</td>\n",
       "      <td>Public In-State</td>\n",
       "      <td>7331</td>\n",
       "      <td>Room</td>\n",
       "      <td>4</td>\n",
       "    </tr>\n",
       "    <tr>\n",
       "      <th>29</th>\n",
       "      <td>2013</td>\n",
       "      <td>Arkansas</td>\n",
       "      <td>Public Out-of-State</td>\n",
       "      <td>4605</td>\n",
       "      <td>Fees</td>\n",
       "      <td>2</td>\n",
       "    </tr>\n",
       "    <tr>\n",
       "      <th>30</th>\n",
       "      <td>2013</td>\n",
       "      <td>Arkansas</td>\n",
       "      <td>Public Out-of-State</td>\n",
       "      <td>15669</td>\n",
       "      <td>Fees</td>\n",
       "      <td>4</td>\n",
       "    </tr>\n",
       "    <tr>\n",
       "      <th>31</th>\n",
       "      <td>2013</td>\n",
       "      <td>Arkansas</td>\n",
       "      <td>Public Out-of-State</td>\n",
       "      <td>7331</td>\n",
       "      <td>Room</td>\n",
       "      <td>4</td>\n",
       "    </tr>\n",
       "    <tr>\n",
       "      <th>32</th>\n",
       "      <td>2013</td>\n",
       "      <td>California</td>\n",
       "      <td>Private</td>\n",
       "      <td>28345</td>\n",
       "      <td>Fees</td>\n",
       "      <td>4</td>\n",
       "    </tr>\n",
       "    <tr>\n",
       "      <th>33</th>\n",
       "      <td>2013</td>\n",
       "      <td>California</td>\n",
       "      <td>Private</td>\n",
       "      <td>12254</td>\n",
       "      <td>Room</td>\n",
       "      <td>4</td>\n",
       "    </tr>\n",
       "    <tr>\n",
       "      <th>34</th>\n",
       "      <td>2013</td>\n",
       "      <td>California</td>\n",
       "      <td>Public In-State</td>\n",
       "      <td>1225</td>\n",
       "      <td>Fees</td>\n",
       "      <td>2</td>\n",
       "    </tr>\n",
       "    <tr>\n",
       "      <th>35</th>\n",
       "      <td>2013</td>\n",
       "      <td>California</td>\n",
       "      <td>Public In-State</td>\n",
       "      <td>8892</td>\n",
       "      <td>Fees</td>\n",
       "      <td>4</td>\n",
       "    </tr>\n",
       "    <tr>\n",
       "      <th>36</th>\n",
       "      <td>2013</td>\n",
       "      <td>California</td>\n",
       "      <td>Public In-State</td>\n",
       "      <td>12137</td>\n",
       "      <td>Room</td>\n",
       "      <td>4</td>\n",
       "    </tr>\n",
       "    <tr>\n",
       "      <th>37</th>\n",
       "      <td>2013</td>\n",
       "      <td>California</td>\n",
       "      <td>Public Out-of-State</td>\n",
       "      <td>6267</td>\n",
       "      <td>Fees</td>\n",
       "      <td>2</td>\n",
       "    </tr>\n",
       "    <tr>\n",
       "      <th>38</th>\n",
       "      <td>2013</td>\n",
       "      <td>California</td>\n",
       "      <td>Public Out-of-State</td>\n",
       "      <td>30765</td>\n",
       "      <td>Fees</td>\n",
       "      <td>4</td>\n",
       "    </tr>\n",
       "    <tr>\n",
       "      <th>39</th>\n",
       "      <td>2013</td>\n",
       "      <td>California</td>\n",
       "      <td>Public Out-of-State</td>\n",
       "      <td>12137</td>\n",
       "      <td>Room</td>\n",
       "      <td>4</td>\n",
       "    </tr>\n",
       "    <tr>\n",
       "      <th>40</th>\n",
       "      <td>2013</td>\n",
       "      <td>Colorado</td>\n",
       "      <td>Private</td>\n",
       "      <td>19967</td>\n",
       "      <td>Fees</td>\n",
       "      <td>4</td>\n",
       "    </tr>\n",
       "    <tr>\n",
       "      <th>41</th>\n",
       "      <td>2013</td>\n",
       "      <td>Colorado</td>\n",
       "      <td>Private</td>\n",
       "      <td>10939</td>\n",
       "      <td>Room</td>\n",
       "      <td>4</td>\n",
       "    </tr>\n",
       "    <tr>\n",
       "      <th>42</th>\n",
       "      <td>2013</td>\n",
       "      <td>Colorado</td>\n",
       "      <td>Public In-State</td>\n",
       "      <td>3004</td>\n",
       "      <td>Fees</td>\n",
       "      <td>2</td>\n",
       "    </tr>\n",
       "    <tr>\n",
       "      <th>43</th>\n",
       "      <td>2013</td>\n",
       "      <td>Colorado</td>\n",
       "      <td>Public In-State</td>\n",
       "      <td>7656</td>\n",
       "      <td>Fees</td>\n",
       "      <td>4</td>\n",
       "    </tr>\n",
       "    <tr>\n",
       "      <th>44</th>\n",
       "      <td>2013</td>\n",
       "      <td>Colorado</td>\n",
       "      <td>Public In-State</td>\n",
       "      <td>10396</td>\n",
       "      <td>Room</td>\n",
       "      <td>4</td>\n",
       "    </tr>\n",
       "    <tr>\n",
       "      <th>45</th>\n",
       "      <td>2013</td>\n",
       "      <td>Colorado</td>\n",
       "      <td>Public Out-of-State</td>\n",
       "      <td>8882</td>\n",
       "      <td>Fees</td>\n",
       "      <td>2</td>\n",
       "    </tr>\n",
       "    <tr>\n",
       "      <th>46</th>\n",
       "      <td>2013</td>\n",
       "      <td>Colorado</td>\n",
       "      <td>Public Out-of-State</td>\n",
       "      <td>25470</td>\n",
       "      <td>Fees</td>\n",
       "      <td>4</td>\n",
       "    </tr>\n",
       "    <tr>\n",
       "      <th>47</th>\n",
       "      <td>2013</td>\n",
       "      <td>Colorado</td>\n",
       "      <td>Public Out-of-State</td>\n",
       "      <td>10396</td>\n",
       "      <td>Room</td>\n",
       "      <td>4</td>\n",
       "    </tr>\n",
       "    <tr>\n",
       "      <th>48</th>\n",
       "      <td>2013</td>\n",
       "      <td>Connecticut</td>\n",
       "      <td>Private</td>\n",
       "      <td>35336</td>\n",
       "      <td>Fees</td>\n",
       "      <td>4</td>\n",
       "    </tr>\n",
       "    <tr>\n",
       "      <th>49</th>\n",
       "      <td>2013</td>\n",
       "      <td>Connecticut</td>\n",
       "      <td>Private</td>\n",
       "      <td>12926</td>\n",
       "      <td>Room</td>\n",
       "      <td>4</td>\n",
       "    </tr>\n",
       "  </tbody>\n",
       "</table>\n",
       "</div>"
      ],
      "text/plain": [
       "    Year        State                 Type  Value Expenses Period\n",
       "0   2013      Alabama              Private  13983     Fees      4\n",
       "1   2013      Alabama              Private   8503     Room      4\n",
       "2   2013      Alabama      Public In-State   4048     Fees      2\n",
       "3   2013      Alabama      Public In-State   8073     Fees      4\n",
       "4   2013      Alabama      Public In-State   8473     Room      4\n",
       "5   2013      Alabama  Public Out-of-State   7736     Fees      2\n",
       "6   2013      Alabama  Public Out-of-State  20380     Fees      4\n",
       "7   2013      Alabama  Public Out-of-State   8473     Room      4\n",
       "8   2013       Alaska              Private  21496     Fees      4\n",
       "9   2013       Alaska              Private   8923     Room      4\n",
       "10  2013       Alaska      Public In-State   3972     Fees      2\n",
       "11  2013       Alaska      Public In-State   6317     Fees      4\n",
       "12  2013       Alaska      Public In-State   9098     Room      4\n",
       "13  2013       Alaska  Public Out-of-State   4150     Fees      2\n",
       "14  2013       Alaska  Public Out-of-State  18790     Fees      4\n",
       "15  2013       Alaska  Public Out-of-State   9098     Room      4\n",
       "16  2013      Arizona              Private  11650     Fees      4\n",
       "17  2013      Arizona              Private   8744     Room      4\n",
       "18  2013      Arizona      Public In-State   1842     Fees      2\n",
       "19  2013      Arizona      Public In-State   9694     Fees      4\n",
       "20  2013      Arizona      Public In-State   9370     Room      4\n",
       "21  2013      Arizona  Public Out-of-State   7870     Fees      2\n",
       "22  2013      Arizona  Public Out-of-State  21201     Fees      4\n",
       "23  2013      Arizona  Public Out-of-State   9370     Room      4\n",
       "24  2013     Arkansas              Private  18004     Fees      4\n",
       "25  2013     Arkansas              Private   7263     Room      4\n",
       "26  2013     Arkansas      Public In-State   2633     Fees      2\n",
       "27  2013     Arkansas      Public In-State   6604     Fees      4\n",
       "28  2013     Arkansas      Public In-State   7331     Room      4\n",
       "29  2013     Arkansas  Public Out-of-State   4605     Fees      2\n",
       "30  2013     Arkansas  Public Out-of-State  15669     Fees      4\n",
       "31  2013     Arkansas  Public Out-of-State   7331     Room      4\n",
       "32  2013   California              Private  28345     Fees      4\n",
       "33  2013   California              Private  12254     Room      4\n",
       "34  2013   California      Public In-State   1225     Fees      2\n",
       "35  2013   California      Public In-State   8892     Fees      4\n",
       "36  2013   California      Public In-State  12137     Room      4\n",
       "37  2013   California  Public Out-of-State   6267     Fees      2\n",
       "38  2013   California  Public Out-of-State  30765     Fees      4\n",
       "39  2013   California  Public Out-of-State  12137     Room      4\n",
       "40  2013     Colorado              Private  19967     Fees      4\n",
       "41  2013     Colorado              Private  10939     Room      4\n",
       "42  2013     Colorado      Public In-State   3004     Fees      2\n",
       "43  2013     Colorado      Public In-State   7656     Fees      4\n",
       "44  2013     Colorado      Public In-State  10396     Room      4\n",
       "45  2013     Colorado  Public Out-of-State   8882     Fees      2\n",
       "46  2013     Colorado  Public Out-of-State  25470     Fees      4\n",
       "47  2013     Colorado  Public Out-of-State  10396     Room      4\n",
       "48  2013  Connecticut              Private  35336     Fees      4\n",
       "49  2013  Connecticut              Private  12926     Room      4"
      ]
     },
     "execution_count": 90,
     "metadata": {},
     "output_type": "execute_result"
    }
   ],
   "source": [
    "df2.head(50)"
   ]
  },
  {
   "cell_type": "code",
   "execution_count": 94,
   "id": "6c55dbf2",
   "metadata": {},
   "outputs": [
    {
     "data": {
      "text/html": [
       "<div>\n",
       "<style scoped>\n",
       "    .dataframe tbody tr th:only-of-type {\n",
       "        vertical-align: middle;\n",
       "    }\n",
       "\n",
       "    .dataframe tbody tr th {\n",
       "        vertical-align: top;\n",
       "    }\n",
       "\n",
       "    .dataframe thead th {\n",
       "        text-align: right;\n",
       "    }\n",
       "</style>\n",
       "<table border=\"1\" class=\"dataframe\">\n",
       "  <thead>\n",
       "    <tr style=\"text-align: right;\">\n",
       "      <th></th>\n",
       "      <th>state_n</th>\n",
       "      <th>type_n</th>\n",
       "      <th>expenses_n</th>\n",
       "      <th>period_n</th>\n",
       "      <th>year_n</th>\n",
       "    </tr>\n",
       "  </thead>\n",
       "  <tbody>\n",
       "    <tr>\n",
       "      <th>3448</th>\n",
       "      <td>36</td>\n",
       "      <td>1</td>\n",
       "      <td>1</td>\n",
       "      <td>1</td>\n",
       "      <td>8</td>\n",
       "    </tr>\n",
       "    <tr>\n",
       "      <th>3449</th>\n",
       "      <td>36</td>\n",
       "      <td>2</td>\n",
       "      <td>0</td>\n",
       "      <td>0</td>\n",
       "      <td>8</td>\n",
       "    </tr>\n",
       "    <tr>\n",
       "      <th>3450</th>\n",
       "      <td>36</td>\n",
       "      <td>2</td>\n",
       "      <td>0</td>\n",
       "      <td>1</td>\n",
       "      <td>8</td>\n",
       "    </tr>\n",
       "    <tr>\n",
       "      <th>3451</th>\n",
       "      <td>36</td>\n",
       "      <td>2</td>\n",
       "      <td>1</td>\n",
       "      <td>1</td>\n",
       "      <td>8</td>\n",
       "    </tr>\n",
       "    <tr>\n",
       "      <th>3452</th>\n",
       "      <td>37</td>\n",
       "      <td>0</td>\n",
       "      <td>0</td>\n",
       "      <td>1</td>\n",
       "      <td>8</td>\n",
       "    </tr>\n",
       "    <tr>\n",
       "      <th>...</th>\n",
       "      <td>...</td>\n",
       "      <td>...</td>\n",
       "      <td>...</td>\n",
       "      <td>...</td>\n",
       "      <td>...</td>\n",
       "    </tr>\n",
       "    <tr>\n",
       "      <th>3543</th>\n",
       "      <td>50</td>\n",
       "      <td>1</td>\n",
       "      <td>0</td>\n",
       "      <td>0</td>\n",
       "      <td>8</td>\n",
       "    </tr>\n",
       "    <tr>\n",
       "      <th>3544</th>\n",
       "      <td>50</td>\n",
       "      <td>1</td>\n",
       "      <td>1</td>\n",
       "      <td>1</td>\n",
       "      <td>8</td>\n",
       "    </tr>\n",
       "    <tr>\n",
       "      <th>3545</th>\n",
       "      <td>50</td>\n",
       "      <td>2</td>\n",
       "      <td>0</td>\n",
       "      <td>0</td>\n",
       "      <td>8</td>\n",
       "    </tr>\n",
       "    <tr>\n",
       "      <th>3546</th>\n",
       "      <td>50</td>\n",
       "      <td>2</td>\n",
       "      <td>0</td>\n",
       "      <td>1</td>\n",
       "      <td>8</td>\n",
       "    </tr>\n",
       "    <tr>\n",
       "      <th>3547</th>\n",
       "      <td>50</td>\n",
       "      <td>2</td>\n",
       "      <td>1</td>\n",
       "      <td>1</td>\n",
       "      <td>8</td>\n",
       "    </tr>\n",
       "  </tbody>\n",
       "</table>\n",
       "<p>100 rows × 5 columns</p>\n",
       "</div>"
      ],
      "text/plain": [
       "      state_n  type_n  expenses_n  period_n  year_n\n",
       "3448       36       1           1         1       8\n",
       "3449       36       2           0         0       8\n",
       "3450       36       2           0         1       8\n",
       "3451       36       2           1         1       8\n",
       "3452       37       0           0         1       8\n",
       "...       ...     ...         ...       ...     ...\n",
       "3543       50       1           0         0       8\n",
       "3544       50       1           1         1       8\n",
       "3545       50       2           0         0       8\n",
       "3546       50       2           0         1       8\n",
       "3547       50       2           1         1       8\n",
       "\n",
       "[100 rows x 5 columns]"
      ]
     },
     "execution_count": 94,
     "metadata": {},
     "output_type": "execute_result"
    }
   ],
   "source": [
    "inputs_n.tail(100)"
   ]
  },
  {
   "cell_type": "code",
   "execution_count": 95,
   "id": "70e5e29f",
   "metadata": {},
   "outputs": [
    {
     "data": {
      "text/html": [
       "<div>\n",
       "<style scoped>\n",
       "    .dataframe tbody tr th:only-of-type {\n",
       "        vertical-align: middle;\n",
       "    }\n",
       "\n",
       "    .dataframe tbody tr th {\n",
       "        vertical-align: top;\n",
       "    }\n",
       "\n",
       "    .dataframe thead th {\n",
       "        text-align: right;\n",
       "    }\n",
       "</style>\n",
       "<table border=\"1\" class=\"dataframe\">\n",
       "  <thead>\n",
       "    <tr style=\"text-align: right;\">\n",
       "      <th></th>\n",
       "      <th>Year</th>\n",
       "      <th>State</th>\n",
       "      <th>Type</th>\n",
       "      <th>Value</th>\n",
       "      <th>Expenses</th>\n",
       "      <th>Period</th>\n",
       "    </tr>\n",
       "  </thead>\n",
       "  <tbody>\n",
       "    <tr>\n",
       "      <th>3448</th>\n",
       "      <td>2021</td>\n",
       "      <td>Oklahoma</td>\n",
       "      <td>Public In-State</td>\n",
       "      <td>9219</td>\n",
       "      <td>Room</td>\n",
       "      <td>4</td>\n",
       "    </tr>\n",
       "    <tr>\n",
       "      <th>3449</th>\n",
       "      <td>2021</td>\n",
       "      <td>Oklahoma</td>\n",
       "      <td>Public Out-of-State</td>\n",
       "      <td>9320</td>\n",
       "      <td>Fees</td>\n",
       "      <td>2</td>\n",
       "    </tr>\n",
       "    <tr>\n",
       "      <th>3450</th>\n",
       "      <td>2021</td>\n",
       "      <td>Oklahoma</td>\n",
       "      <td>Public Out-of-State</td>\n",
       "      <td>21737</td>\n",
       "      <td>Fees</td>\n",
       "      <td>4</td>\n",
       "    </tr>\n",
       "    <tr>\n",
       "      <th>3451</th>\n",
       "      <td>2021</td>\n",
       "      <td>Oklahoma</td>\n",
       "      <td>Public Out-of-State</td>\n",
       "      <td>9219</td>\n",
       "      <td>Room</td>\n",
       "      <td>4</td>\n",
       "    </tr>\n",
       "    <tr>\n",
       "      <th>3452</th>\n",
       "      <td>2021</td>\n",
       "      <td>Oregon</td>\n",
       "      <td>Private</td>\n",
       "      <td>45166</td>\n",
       "      <td>Fees</td>\n",
       "      <td>4</td>\n",
       "    </tr>\n",
       "    <tr>\n",
       "      <th>...</th>\n",
       "      <td>...</td>\n",
       "      <td>...</td>\n",
       "      <td>...</td>\n",
       "      <td>...</td>\n",
       "      <td>...</td>\n",
       "      <td>...</td>\n",
       "    </tr>\n",
       "    <tr>\n",
       "      <th>3543</th>\n",
       "      <td>2021</td>\n",
       "      <td>Wyoming</td>\n",
       "      <td>Public In-State</td>\n",
       "      <td>3987</td>\n",
       "      <td>Fees</td>\n",
       "      <td>2</td>\n",
       "    </tr>\n",
       "    <tr>\n",
       "      <th>3544</th>\n",
       "      <td>2021</td>\n",
       "      <td>Wyoming</td>\n",
       "      <td>Public In-State</td>\n",
       "      <td>9799</td>\n",
       "      <td>Room</td>\n",
       "      <td>4</td>\n",
       "    </tr>\n",
       "    <tr>\n",
       "      <th>3545</th>\n",
       "      <td>2021</td>\n",
       "      <td>Wyoming</td>\n",
       "      <td>Public Out-of-State</td>\n",
       "      <td>9820</td>\n",
       "      <td>Fees</td>\n",
       "      <td>2</td>\n",
       "    </tr>\n",
       "    <tr>\n",
       "      <th>3546</th>\n",
       "      <td>2021</td>\n",
       "      <td>Wyoming</td>\n",
       "      <td>Public Out-of-State</td>\n",
       "      <td>14710</td>\n",
       "      <td>Fees</td>\n",
       "      <td>4</td>\n",
       "    </tr>\n",
       "    <tr>\n",
       "      <th>3547</th>\n",
       "      <td>2021</td>\n",
       "      <td>Wyoming</td>\n",
       "      <td>Public Out-of-State</td>\n",
       "      <td>9799</td>\n",
       "      <td>Room</td>\n",
       "      <td>4</td>\n",
       "    </tr>\n",
       "  </tbody>\n",
       "</table>\n",
       "<p>100 rows × 6 columns</p>\n",
       "</div>"
      ],
      "text/plain": [
       "      Year     State                 Type  Value Expenses Period\n",
       "3448  2021  Oklahoma      Public In-State   9219     Room      4\n",
       "3449  2021  Oklahoma  Public Out-of-State   9320     Fees      2\n",
       "3450  2021  Oklahoma  Public Out-of-State  21737     Fees      4\n",
       "3451  2021  Oklahoma  Public Out-of-State   9219     Room      4\n",
       "3452  2021    Oregon              Private  45166     Fees      4\n",
       "...    ...       ...                  ...    ...      ...    ...\n",
       "3543  2021   Wyoming      Public In-State   3987     Fees      2\n",
       "3544  2021   Wyoming      Public In-State   9799     Room      4\n",
       "3545  2021   Wyoming  Public Out-of-State   9820     Fees      2\n",
       "3546  2021   Wyoming  Public Out-of-State  14710     Fees      4\n",
       "3547  2021   Wyoming  Public Out-of-State   9799     Room      4\n",
       "\n",
       "[100 rows x 6 columns]"
      ]
     },
     "execution_count": 95,
     "metadata": {},
     "output_type": "execute_result"
    }
   ],
   "source": [
    "df2.tail(100)"
   ]
  },
  {
   "cell_type": "code",
   "execution_count": 80,
   "id": "3e135d7f",
   "metadata": {},
   "outputs": [],
   "source": [
    "from sklearn import tree"
   ]
  },
  {
   "cell_type": "code",
   "execution_count": 81,
   "id": "9e0774c0",
   "metadata": {},
   "outputs": [],
   "source": [
    "model = tree.DecisionTreeClassifier()"
   ]
  },
  {
   "cell_type": "code",
   "execution_count": 82,
   "id": "b25ec963",
   "metadata": {},
   "outputs": [
    {
     "data": {
      "text/plain": [
       "DecisionTreeClassifier()"
      ]
     },
     "execution_count": 82,
     "metadata": {},
     "output_type": "execute_result"
    }
   ],
   "source": [
    "model.fit(inputs_n,target)"
   ]
  },
  {
   "cell_type": "markdown",
   "id": "cc2c3c80",
   "metadata": {},
   "source": [
    "- Here the score of the model is 1.0 which is pretty nice for the prediction "
   ]
  },
  {
   "cell_type": "code",
   "execution_count": 83,
   "id": "5d87ae5f",
   "metadata": {},
   "outputs": [
    {
     "data": {
      "text/plain": [
       "1.0"
      ]
     },
     "execution_count": 83,
     "metadata": {},
     "output_type": "execute_result"
    }
   ],
   "source": [
    "model.score(inputs_n,target)"
   ]
  },
  {
   "cell_type": "markdown",
   "id": "61c77f85",
   "metadata": {},
   "source": [
    "- Now lets check our model \n",
    "- lets take State = 2021  ,Year = Wyoming, University= Public In-State,Expense = Fees,Period = 2\n",
    "  the cost is 3987\n",
    "  the prediction is 3987 which is correct "
   ]
  },
  {
   "cell_type": "markdown",
   "id": "5bdfbf71",
   "metadata": {},
   "source": [
    "## Checking the Prediction of the Model"
   ]
  },
  {
   "cell_type": "code",
   "execution_count": 86,
   "id": "a1ae0c4f",
   "metadata": {},
   "outputs": [
    {
     "name": "stderr",
     "output_type": "stream",
     "text": [
      "C:\\ProgramData\\Anaconda3\\lib\\site-packages\\sklearn\\base.py:450: UserWarning: X does not have valid feature names, but DecisionTreeClassifier was fitted with feature names\n",
      "  warnings.warn(\n"
     ]
    },
    {
     "data": {
      "text/plain": [
       "array([3987], dtype=int64)"
      ]
     },
     "execution_count": 86,
     "metadata": {},
     "output_type": "execute_result"
    }
   ],
   "source": [
    "model.predict([[50,1,0,0,8]])"
   ]
  },
  {
   "cell_type": "markdown",
   "id": "294c93fb",
   "metadata": {},
   "source": [
    " \n",
    "- lets take State = Oklahoma  ,Year = 2021, University= Public In-State,Expense = Room,Period = 4   \n",
    "  the cost is 9219\n",
    "  the prediction is 9219 which is correct "
   ]
  },
  {
   "cell_type": "code",
   "execution_count": 87,
   "id": "5035709f",
   "metadata": {},
   "outputs": [
    {
     "name": "stderr",
     "output_type": "stream",
     "text": [
      "C:\\ProgramData\\Anaconda3\\lib\\site-packages\\sklearn\\base.py:450: UserWarning: X does not have valid feature names, but DecisionTreeClassifier was fitted with feature names\n",
      "  warnings.warn(\n"
     ]
    },
    {
     "data": {
      "text/plain": [
       "array([9219], dtype=int64)"
      ]
     },
     "execution_count": 87,
     "metadata": {},
     "output_type": "execute_result"
    }
   ],
   "source": [
    "model.predict([[36,1,1,1,8]])"
   ]
  },
  {
   "cell_type": "markdown",
   "id": "afe32270",
   "metadata": {},
   "source": [
    "- lets take State = Oregon  ,Year = 2021, University= Private,Expense = Fees,Period = 4  \n",
    "    \n",
    "  the cost is 45166\n",
    "  the prediction is 45166 which is correct "
   ]
  },
  {
   "cell_type": "code",
   "execution_count": 88,
   "id": "03aebb55",
   "metadata": {},
   "outputs": [
    {
     "name": "stderr",
     "output_type": "stream",
     "text": [
      "C:\\ProgramData\\Anaconda3\\lib\\site-packages\\sklearn\\base.py:450: UserWarning: X does not have valid feature names, but DecisionTreeClassifier was fitted with feature names\n",
      "  warnings.warn(\n"
     ]
    },
    {
     "data": {
      "text/plain": [
       "array([45166], dtype=int64)"
      ]
     },
     "execution_count": 88,
     "metadata": {},
     "output_type": "execute_result"
    }
   ],
   "source": [
    "model.predict([[37,0,0,1,8]])"
   ]
  },
  {
   "cell_type": "markdown",
   "id": "7fabafaa",
   "metadata": {},
   "source": [
    "2013\tColorado\tPublic Out-of-State\t10396\tRoom\t4\n",
    "- lets take State = Colorado  ,Year = 2013, University= Public Out-of State,Expense = Room,Period = 4      \n",
    "  the cost is 10396\n",
    "  the prediction is 10396 which is correct "
   ]
  },
  {
   "cell_type": "code",
   "execution_count": 91,
   "id": "4c4c7607",
   "metadata": {
    "scrolled": true
   },
   "outputs": [
    {
     "name": "stderr",
     "output_type": "stream",
     "text": [
      "C:\\ProgramData\\Anaconda3\\lib\\site-packages\\sklearn\\base.py:450: UserWarning: X does not have valid feature names, but DecisionTreeClassifier was fitted with feature names\n",
      "  warnings.warn(\n"
     ]
    },
    {
     "data": {
      "text/plain": [
       "array([10396], dtype=int64)"
      ]
     },
     "execution_count": 91,
     "metadata": {},
     "output_type": "execute_result"
    }
   ],
   "source": [
    "model.predict([[5,2,1,1,0]])"
   ]
  }
 ],
 "metadata": {
  "kernelspec": {
   "display_name": "Python 3 (ipykernel)",
   "language": "python",
   "name": "python3"
  },
  "language_info": {
   "codemirror_mode": {
    "name": "ipython",
    "version": 3
   },
   "file_extension": ".py",
   "mimetype": "text/x-python",
   "name": "python",
   "nbconvert_exporter": "python",
   "pygments_lexer": "ipython3",
   "version": "3.9.13"
  }
 },
 "nbformat": 4,
 "nbformat_minor": 5
}
